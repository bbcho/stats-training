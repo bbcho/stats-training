{
 "cells": [
  {
   "cell_type": "code",
   "execution_count": 1,
   "id": "moving-allergy",
   "metadata": {},
   "outputs": [],
   "source": [
    "import numpy as np"
   ]
  },
  {
   "cell_type": "code",
   "execution_count": 2,
   "id": "cubic-passage",
   "metadata": {},
   "outputs": [],
   "source": [
    "import seaborn as sns"
   ]
  },
  {
   "cell_type": "code",
   "execution_count": 43,
   "id": "pursuant-strike",
   "metadata": {},
   "outputs": [],
   "source": [
    "P = np.random.uniform(0,100000,100000)"
   ]
  },
  {
   "cell_type": "code",
   "execution_count": 44,
   "id": "powered-venice",
   "metadata": {},
   "outputs": [
    {
     "data": {
      "text/plain": [
       "<seaborn.axisgrid.FacetGrid at 0x7fa0b900d190>"
      ]
     },
     "execution_count": 44,
     "metadata": {},
     "output_type": "execute_result"
    },
    {
     "data": {
      "image/png": "[encoded data removed]",
      "text/plain": [
       "<Figure size 360x360 with 1 Axes>"
      ]
     },
     "metadata": {
      "needs_background": "light"
     },
     "output_type": "display_data"
    }
   ],
   "source": [
    "sns.displot(P)"
   ]
  },
  {
   "cell_type": "code",
   "execution_count": 45,
   "id": "circular-employment",
   "metadata": {},
   "outputs": [
    {
     "name": "stdout",
     "output_type": "stream",
     "text": [
      "50001.72107489163\n",
      "28828.97208232602\n"
     ]
    }
   ],
   "source": [
    "print(P.mean())\n",
    "print(P.std())"
   ]
  },
  {
   "cell_type": "code",
   "execution_count": 72,
   "id": "seeing-wonder",
   "metadata": {},
   "outputs": [],
   "source": [
    "p = np.random.choice(P,100)"
   ]
  },
  {
   "cell_type": "code",
   "execution_count": 73,
   "id": "cloudy-australian",
   "metadata": {},
   "outputs": [
    {
     "data": {
      "text/plain": [
       "array([79406.41529933, 66207.83334812, 61488.5248692 , 71092.31611344,\n",
       "       15951.46324754, 60168.7438279 , 26714.5513508 , 45116.06575798,\n",
       "       98523.51080859, 84248.18318906,   419.63626233, 21016.56527046,\n",
       "       20853.69337713, 48563.96600536, 45041.67298913, 96171.10224659,\n",
       "       68359.05923601, 70264.54712983,  5681.28608972, 11170.35729754,\n",
       "        3711.31533931, 56197.013897  , 53827.24536046, 58975.18320894,\n",
       "       56771.78609587,  4487.82261757,  5160.83011765, 54898.0220141 ,\n",
       "       45280.66802433, 97762.41136365, 50147.78924778, 98366.02507551,\n",
       "       19118.40544526, 32373.51849509, 14420.54072497, 85816.36147723,\n",
       "       70575.79439233, 23914.5060547 ,  7386.1553451 , 17879.13182446,\n",
       "       49544.78440284, 46677.38790664, 74803.76023165, 20811.1724683 ,\n",
       "        9387.38937119,  4149.93298927, 18799.00631917, 99896.13955179,\n",
       "       74616.08319216, 50961.24923848, 88327.63865051, 39899.77515806,\n",
       "       77791.66472797, 77619.13403207, 22161.09687193, 52607.6065292 ,\n",
       "       99758.57939114, 55408.05035286, 63791.68812257, 66851.02008297,\n",
       "       88900.80194195, 68734.84548488, 13459.98601078,  5952.94502744,\n",
       "       45218.85704915, 94553.35680774, 59049.50606665, 64070.9375022 ,\n",
       "        5831.68319646, 51463.20899039, 73159.76444683, 54745.89695497,\n",
       "       12339.01079084, 96069.67018249, 19412.97996317, 44802.039467  ,\n",
       "       79394.46349758, 95195.09187268, 20908.32671759, 13158.35192145,\n",
       "       31332.03187118, 88513.25068495, 97726.45992632, 34439.83499019,\n",
       "       41338.47427718, 32492.35971791, 28035.29274469, 64895.24251693,\n",
       "       27597.72108288, 17099.74977459, 62450.00201987, 78040.06909863,\n",
       "       99206.63941581, 36463.04881864, 44255.22828264, 91373.85749587,\n",
       "       40754.4427571 ,  5751.29812689, 44748.86772643, 96938.17888925])"
      ]
     },
     "execution_count": 73,
     "metadata": {},
     "output_type": "execute_result"
    }
   ],
   "source": [
    "p"
   ]
  },
  {
   "cell_type": "code",
   "execution_count": 74,
   "id": "single-dealer",
   "metadata": {},
   "outputs": [
    {
     "data": {
      "text/plain": [
       "50172.66953538349"
      ]
     },
     "execution_count": 74,
     "metadata": {},
     "output_type": "execute_result"
    }
   ],
   "source": [
    "p.mean()"
   ]
  },
  {
   "cell_type": "code",
   "execution_count": 70,
   "id": "north-showcase",
   "metadata": {},
   "outputs": [
    {
     "data": {
      "text/plain": [
       "<matplotlib.lines.Line2D at 0x7fa0abc289a0>"
      ]
     },
     "execution_count": 70,
     "metadata": {},
     "output_type": "execute_result"
    },
    {
     "data": {
      "image/png": "[encoded data removed]",
      "text/plain": [
       "<Figure size 432x288 with 1 Axes>"
      ]
     },
     "metadata": {
      "needs_background": "light"
     },
     "output_type": "display_data"
    }
   ],
   "source": [
    "s = []\n",
    "for i in range(0,1000):\n",
    "    p = np.random.choice(P,100)\n",
    "    s.append(p.mean())\n",
    "\n",
    "ax = sns.histplot(s)\n",
    "ax.axvline(P.mean(), color='r')"
   ]
  },
  {
   "cell_type": "code",
   "execution_count": 75,
   "id": "honest-squad",
   "metadata": {},
   "outputs": [
    {
     "data": {
      "text/plain": [
       "<matplotlib.lines.Line2D at 0x7fa0b88ec5b0>"
      ]
     },
     "execution_count": 75,
     "metadata": {},
     "output_type": "execute_result"
    },
    {
     "data": {
      "image/png": "[encoded data removed]",
      "text/plain": [
       "<Figure size 432x288 with 1 Axes>"
      ]
     },
     "metadata": {
      "needs_background": "light"
     },
     "output_type": "display_data"
    }
   ],
   "source": [
    "s = []\n",
    "for i in range(0,10000):\n",
    "    p = np.random.choice(P,100)\n",
    "    s.append(p.mean())\n",
    "\n",
    "ax = sns.histplot(s)\n",
    "ax.axvline(P.mean(), color='r')"
   ]
  },
  {
   "cell_type": "code",
   "execution_count": 76,
   "id": "stretch-permit",
   "metadata": {},
   "outputs": [
    {
     "data": {
      "text/plain": [
       "<matplotlib.lines.Line2D at 0x7fa0abab76a0>"
      ]
     },
     "execution_count": 76,
     "metadata": {},
     "output_type": "execute_result"
    },
    {
     "data": {
      "image/png": "[encoded data removed]",
      "text/plain": [
       "<Figure size 432x288 with 1 Axes>"
      ]
     },
     "metadata": {
      "needs_background": "light"
     },
     "output_type": "display_data"
    }
   ],
   "source": [
    "s = []\n",
    "for i in range(0,10000):\n",
    "    p = np.random.choice(P,100)\n",
    "    s.append(p.std())\n",
    "    \n",
    "ax = sns.histplot(s)\n",
    "ax.axvline(P.std(), color='r')"
   ]
  },
  {
   "cell_type": "code",
   "execution_count": null,
   "id": "coordinated-present",
   "metadata": {},
   "outputs": [],
   "source": []
  }
 ],
 "metadata": {
  "kernelspec": {
   "display_name": "stats",
   "language": "python",
   "name": "stats"
  },
  "language_info": {
   "codemirror_mode": {
    "name": "ipython",
    "version": 3
   },
   "file_extension": ".py",
   "mimetype": "text/x-python",
   "name": "python",
   "nbconvert_exporter": "python",
   "pygments_lexer": "ipython3",
   "version": "3.8.8"
  }
 },
 "nbformat": 4,
 "nbformat_minor": 5
}
